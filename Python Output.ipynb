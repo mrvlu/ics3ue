{
 "cells": [
  {
   "cell_type": "markdown",
   "id": "dressed-infrared",
   "metadata": {},
   "source": [
    "# How to Output in Python v. 3.x\n",
    "\n",
    "<b>The print()</b> \n",
    "\n",
    "Using the comma with the print command – Information separated by a comma will force the information to be printed on the same line with one space in between the information. \n",
    "\n",
    "## Simple Output Examples with print ()"
   ]
  },
  {
   "cell_type": "code",
   "execution_count": 25,
   "id": "affecting-piece",
   "metadata": {},
   "outputs": [
    {
     "name": "stdout",
     "output_type": "stream",
     "text": [
      "Hello\n",
      "World!\n"
     ]
    }
   ],
   "source": [
    "print (\"Hello\")      #print  \"\"   v. 2 of Python, be careful of the syntax\n",
    "print (\"World!\")"
   ]
  },
  {
   "cell_type": "markdown",
   "id": "reflected-colombia",
   "metadata": {},
   "source": [
    "When you want to print a message as an output. You need to wrap the message with quotes <b>\" \"</b>.\n",
    "\n",
    "This is called a <u>String</u>. A data type that handles all kinds of characters. "
   ]
  },
  {
   "cell_type": "code",
   "execution_count": 26,
   "id": "seven-board",
   "metadata": {},
   "outputs": [
    {
     "name": "stdout",
     "output_type": "stream",
     "text": [
      "Hello\n",
      "World!\n"
     ]
    }
   ],
   "source": [
    "print (\"Hello\",) \n",
    "print (\"World!\") \n",
    "\n",
    "#this is not printed? Why is that? - comment"
   ]
  },
  {
   "cell_type": "code",
   "execution_count": 27,
   "id": "distributed-gibson",
   "metadata": {},
   "outputs": [
    {
     "name": "stdout",
     "output_type": "stream",
     "text": [
      "Hello World!\n"
     ]
    }
   ],
   "source": [
    "print (\"Hello\",\"World!\") "
   ]
  },
  {
   "cell_type": "markdown",
   "id": "three-michigan",
   "metadata": {},
   "source": [
    "## Using the + sign works as well"
   ]
  },
  {
   "cell_type": "code",
   "execution_count": 28,
   "id": "anticipated-dutch",
   "metadata": {},
   "outputs": [
    {
     "name": "stdout",
     "output_type": "stream",
     "text": [
      "HelloWorld!\n",
      "Hello World!\n"
     ]
    }
   ],
   "source": [
    "print (\"Hello\"+\"World!\") \n",
    "print (\"Hello \"+\"World!\")  #to include a space, you must have the space within the quotations"
   ]
  },
  {
   "cell_type": "markdown",
   "id": "decent-hughes",
   "metadata": {},
   "source": [
    "What's the difference between using the + and a comma ? \n",
    "```{toggle}\n",
    ", automatically adds a space \n",
    "+ does not include a space\n",
    "```"
   ]
  },
  {
   "cell_type": "markdown",
   "id": "subject-tiger",
   "metadata": {},
   "source": [
    "## Escape Characters\n",
    "\n",
    "<b>Using \\t with the print command</b> – This is the tab character. Placing \\t in your string, forces the information after the tab character to be printed on the same line but moved over to the next available tab stop (The tab stops are every 8 or 9 spaces in Python). Using the print statement in conjunction with the tab character is a useful method of formatting your information in columns, with each piece of information appearing in a new column. Notice that the tab character must be inside quotation marks."
   ]
  },
  {
   "cell_type": "code",
   "execution_count": 29,
   "id": "rubber-driver",
   "metadata": {},
   "outputs": [
    {
     "name": "stdout",
     "output_type": "stream",
     "text": [
      "Hello\t World!\n",
      "Hello\tWorld!\n"
     ]
    }
   ],
   "source": [
    "print (\"Hello\\t\",\"World!\") \n",
    "print (\"Hello\\tWorld!\" )"
   ]
  },
  {
   "cell_type": "markdown",
   "id": "grand-marshall",
   "metadata": {},
   "source": [
    "Leaving blank lines in your output – To print a blank line on the screen, just use the print command by itself. For example, to generate a blank line on the screen or you can use <strong>\\n</strong>"
   ]
  },
  {
   "cell_type": "code",
   "execution_count": 30,
   "id": "preceding-physiology",
   "metadata": {},
   "outputs": [
    {
     "name": "stdout",
     "output_type": "stream",
     "text": [
      "Hello\n",
      "\n",
      "World!\n"
     ]
    }
   ],
   "source": [
    "print(\"Hello\\n\\nWorld!\")"
   ]
  },
  {
   "cell_type": "code",
   "execution_count": 31,
   "id": "wired-junior",
   "metadata": {},
   "outputs": [
    {
     "name": "stdout",
     "output_type": "stream",
     "text": [
      "Hello\n",
      "\n",
      "Goodbye\n"
     ]
    }
   ],
   "source": [
    "# same as above\n",
    "print (\"Hello\")\n",
    "print ()\n",
    "print (\"Goodbye\")"
   ]
  },
  {
   "cell_type": "markdown",
   "id": "extended-detective",
   "metadata": {},
   "source": [
    "## Preserving String formatting\n",
    "\n",
    "Now there are some characters that won't be able to be printed if they have a syntaxical meaning. Characters such as \\ and  \".\n",
    "\n",
    "So here's a few way to print them out: "
   ]
  },
  {
   "cell_type": "code",
   "execution_count": 32,
   "id": "appreciated-positive",
   "metadata": {},
   "outputs": [
    {
     "name": "stdout",
     "output_type": "stream",
     "text": [
      "This is a quote: \"\n",
      "This is a forward slash \\\n"
     ]
    }
   ],
   "source": [
    "# You can escape those characters using another \\ in front of it. This will escape the purpose of the character.\n",
    "print (\"This is a quote: \\\"\")\n",
    "print (\"This is a forward slash \\\\\")"
   ]
  },
  {
   "cell_type": "markdown",
   "id": "chronic-measurement",
   "metadata": {},
   "source": [
    "## Another really useful syntax is the triple quote: \"\"\"\n",
    "\n",
    "The formatting inside the triple quote is preserved, like the \\<pre> tag in html. Including the special characters, most of the time. \n"
   ]
  },
  {
   "cell_type": "code",
   "execution_count": 33,
   "id": "binary-internet",
   "metadata": {},
   "outputs": [
    {
     "name": "stdout",
     "output_type": "stream",
     "text": [
      "\n",
      "\n",
      "    This is a nice message. \n",
      "    Would you like to keep it. \n",
      "    \n",
      "        \"Yes\" - or - \"No\"\n",
      "            ¯\\_(ツ)_/¯\n",
      "\n",
      "\n"
     ]
    }
   ],
   "source": [
    "print (\"\"\"\n",
    "\n",
    "    This is a nice message. \n",
    "    Would you like to keep it. \n",
    "    \n",
    "        \"Yes\" - or - \"No\"\n",
    "            ¯\\_(ツ)_/¯\n",
    "\n",
    "\"\"\")"
   ]
  },
  {
   "cell_type": "code",
   "execution_count": 34,
   "id": "incorrect-finding",
   "metadata": {},
   "outputs": [
    {
     "name": "stdout",
     "output_type": "stream",
     "text": [
      "\n",
      "\n",
      "   ____  U _____ u  _____    _   _    _   _   _   _      ____ U _____ u \n",
      "U | __\")u\\| ___\"|/ |_ \" _|  |'| |'|U |\"|u| | | \\ |\"|  U /\"___|\\| ___\"|/ \n",
      " \\|  _ \\/ |  _|\"     | |   /| |_| |\\| |\\| |<|  \\| |> \\| | u   |  _|\"   \n",
      "  | |_) | | |___    /| |\\  U|  _  |u | |_| |U| |\\  |u  | |/__  | |___   \n",
      "  |____/  |_____|  u |_|U   |_| |_| <<\\___/  |_| \\_|    \\____| |_____|  \n",
      " _|| \\_  <<   >>  _// \\_  //   \\(__) )(   ||   \\,-._// \\  <<   >>  \n",
      "(__) (__)(__) (__)(__) (__)(_\") (\"_)   (__)  (_\")  (_/(__)(__)(__) (__) \n",
      "\n",
      "\n"
     ]
    }
   ],
   "source": [
    "# Kind of useful if you want to do ASCII art. Originally how you did graphics in many applications. \n",
    "print (\"\"\"\n",
    "\n",
    "   ____  U _____ u  _____    _   _    _   _   _   _      ____ U _____ u \n",
    "U | __\")u\\| ___\"|/ |_ \" _|  |'| |'|U |\"|u| | | \\ |\"|  U /\"___|\\| ___\"|/ \n",
    " \\|  _ \\/ |  _|\"     | |   /| |_| |\\\\| |\\| |<|  \\| |> \\| | u   |  _|\"   \n",
    "  | |_) | | |___    /| |\\  U|  _  |u | |_| |U| |\\  |u  | |/__  | |___   \n",
    "  |____/  |_____|  u |_|U   |_| |_| <<\\___/  |_| \\_|    \\____| |_____|  \n",
    " _|| \\\\_  <<   >>  _// \\\\_  //   \\\\(__) )(   ||   \\\\,-._// \\\\  <<   >>  \n",
    "(__) (__)(__) (__)(__) (__)(_\") (\"_)   (__)  (_\")  (_/(__)(__)(__) (__) \n",
    "\n",
    "\"\"\")\n",
    "\n",
    "#There is an issue though with the output. Can you see it ? "
   ]
  },
  {
   "cell_type": "markdown",
   "id": "irish-proportion",
   "metadata": {},
   "source": [
    "Can you see what caused it ? So when copying over ASCII art or any text. You must ensure to avoid doubling up of those characters or you must escape the escaped character."
   ]
  },
  {
   "cell_type": "markdown",
   "id": "cathedral-tolerance",
   "metadata": {},
   "source": [
    "# What if it's not a STRING "
   ]
  },
  {
   "cell_type": "code",
   "execution_count": 35,
   "id": "normal-power",
   "metadata": {},
   "outputs": [
    {
     "name": "stdout",
     "output_type": "stream",
     "text": [
      "5\n",
      "5\n",
      "53\n",
      "Handles Math\n",
      "8\n",
      "16\n",
      "40.0\n",
      "0.5\n",
      "0.3333333333333333\n",
      "9\n",
      "2.23606797749979\n"
     ]
    }
   ],
   "source": [
    "# the following code is to test some math operation in Python3\n",
    "print (\"5\")    # a string\n",
    "print (5)\n",
    "#can't see the difference in the above\n",
    "print (\"5\"+\"3\")\n",
    "print (\"Handles Math\")\n",
    "print (5+3)\n",
    "\n",
    "print (5+3+4*2)  # BEDMAS APPLIES TO ANY OPERATION DONE IN PYTHON\n",
    "print (80*.5)\n",
    "print (1.0/2)\n",
    "print (1/float(3))\n",
    "print (3**2)\n",
    "print (5**0.5) #square root of 5\n"
   ]
  }
 ],
 "metadata": {
  "kernelspec": {
   "display_name": "Python 3",
   "language": "python",
   "name": "python3"
  },
  "language_info": {
   "codemirror_mode": {
    "name": "ipython",
    "version": 3
   },
   "file_extension": ".py",
   "mimetype": "text/x-python",
   "name": "python",
   "nbconvert_exporter": "python",
   "pygments_lexer": "ipython3",
   "version": "3.9.1"
  }
 },
 "nbformat": 4,
 "nbformat_minor": 5
}
